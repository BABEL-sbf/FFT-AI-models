## Installing dependencies
```bash
!nvidia-smi
```
```python
import os
HOME = os.getcwd()
print(HOME)
```
```python
!pip install ultralytics==8.0.20

from IPython import display
display.clear_output()

import ultralytics
ultralytics.checks()
```
```python

from ultralytics import YOLO

from IPython.display import display, Image
```
